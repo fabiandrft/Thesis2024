{
 "cells": [
  {
   "cell_type": "code",
   "execution_count": 1,
   "id": "ae860c62-ed77-49c3-bfa8-8e8097878738",
   "metadata": {
    "scrolled": true
   },
   "outputs": [
    {
     "name": "stdout",
     "output_type": "stream",
     "text": [
      "Requirement already satisfied: pelote in /opt/mamba/lib/python3.11/site-packages (0.8.2)\n",
      "Requirement already satisfied: ebbe<2,>=1.9.0 in /opt/mamba/lib/python3.11/site-packages (from pelote) (1.13.2)\n",
      "Requirement already satisfied: pyllist in /opt/mamba/lib/python3.11/site-packages (from pelote) (0.3)\n",
      "Requirement already satisfied: networkx<3,>=2 in /opt/mamba/lib/python3.11/site-packages (from pelote) (2.8.8)\n",
      "Requirement already satisfied: ipysigma in /opt/mamba/lib/python3.11/site-packages (0.24.2)\n",
      "Requirement already satisfied: ipywidgets>=7.0.0 in /opt/mamba/lib/python3.11/site-packages (from ipysigma) (8.1.2)\n",
      "Requirement already satisfied: comm>=0.1.3 in /opt/mamba/lib/python3.11/site-packages (from ipywidgets>=7.0.0->ipysigma) (0.2.2)\n",
      "Requirement already satisfied: ipython>=6.1.0 in /opt/mamba/lib/python3.11/site-packages (from ipywidgets>=7.0.0->ipysigma) (8.22.2)\n",
      "Requirement already satisfied: traitlets>=4.3.1 in /opt/mamba/lib/python3.11/site-packages (from ipywidgets>=7.0.0->ipysigma) (5.14.2)\n",
      "Requirement already satisfied: widgetsnbextension~=4.0.10 in /opt/mamba/lib/python3.11/site-packages (from ipywidgets>=7.0.0->ipysigma) (4.0.10)\n",
      "Requirement already satisfied: jupyterlab-widgets~=3.0.10 in /opt/mamba/lib/python3.11/site-packages (from ipywidgets>=7.0.0->ipysigma) (3.0.10)\n",
      "Requirement already satisfied: decorator in /opt/mamba/lib/python3.11/site-packages (from ipython>=6.1.0->ipywidgets>=7.0.0->ipysigma) (5.1.1)\n",
      "Requirement already satisfied: jedi>=0.16 in /opt/mamba/lib/python3.11/site-packages (from ipython>=6.1.0->ipywidgets>=7.0.0->ipysigma) (0.19.1)\n",
      "Requirement already satisfied: matplotlib-inline in /opt/mamba/lib/python3.11/site-packages (from ipython>=6.1.0->ipywidgets>=7.0.0->ipysigma) (0.1.6)\n",
      "Requirement already satisfied: prompt-toolkit<3.1.0,>=3.0.41 in /opt/mamba/lib/python3.11/site-packages (from ipython>=6.1.0->ipywidgets>=7.0.0->ipysigma) (3.0.42)\n",
      "Requirement already satisfied: pygments>=2.4.0 in /opt/mamba/lib/python3.11/site-packages (from ipython>=6.1.0->ipywidgets>=7.0.0->ipysigma) (2.17.2)\n",
      "Requirement already satisfied: stack-data in /opt/mamba/lib/python3.11/site-packages (from ipython>=6.1.0->ipywidgets>=7.0.0->ipysigma) (0.6.2)\n",
      "Requirement already satisfied: pexpect>4.3 in /opt/mamba/lib/python3.11/site-packages (from ipython>=6.1.0->ipywidgets>=7.0.0->ipysigma) (4.9.0)\n",
      "Requirement already satisfied: parso<0.9.0,>=0.8.3 in /opt/mamba/lib/python3.11/site-packages (from jedi>=0.16->ipython>=6.1.0->ipywidgets>=7.0.0->ipysigma) (0.8.4)\n",
      "Requirement already satisfied: ptyprocess>=0.5 in /opt/mamba/lib/python3.11/site-packages (from pexpect>4.3->ipython>=6.1.0->ipywidgets>=7.0.0->ipysigma) (0.7.0)\n",
      "Requirement already satisfied: wcwidth in /opt/mamba/lib/python3.11/site-packages (from prompt-toolkit<3.1.0,>=3.0.41->ipython>=6.1.0->ipywidgets>=7.0.0->ipysigma) (0.2.13)\n",
      "Requirement already satisfied: executing>=1.2.0 in /opt/mamba/lib/python3.11/site-packages (from stack-data->ipython>=6.1.0->ipywidgets>=7.0.0->ipysigma) (2.0.1)\n",
      "Requirement already satisfied: asttokens>=2.1.0 in /opt/mamba/lib/python3.11/site-packages (from stack-data->ipython>=6.1.0->ipywidgets>=7.0.0->ipysigma) (2.4.1)\n",
      "Requirement already satisfied: pure-eval in /opt/mamba/lib/python3.11/site-packages (from stack-data->ipython>=6.1.0->ipywidgets>=7.0.0->ipysigma) (0.2.2)\n",
      "Requirement already satisfied: six>=1.12.0 in /opt/mamba/lib/python3.11/site-packages (from asttokens>=2.1.0->stack-data->ipython>=6.1.0->ipywidgets>=7.0.0->ipysigma) (1.16.0)\n"
     ]
    }
   ],
   "source": [
    "!pip install pelote\n",
    "!pip install ipysigma"
   ]
  },
  {
   "cell_type": "code",
   "execution_count": 2,
   "id": "a6d91216-bb38-406b-abe4-39f502de1017",
   "metadata": {},
   "outputs": [],
   "source": [
    "import networkx as nx\n",
    "from ipysigma import Sigma, SigmaGrid\n",
    "from pelote import remove_leaves, graph_to_edges_dataframe, remove_nodes\n",
    "from random import random\n",
    "import csv"
   ]
  },
  {
   "cell_type": "code",
   "execution_count": 3,
   "id": "10a46264-bc67-409b-b865-9d93050aae01",
   "metadata": {},
   "outputs": [
    {
     "data": {
      "text/plain": [
       "(4886, 38498)"
      ]
     },
     "execution_count": 3,
     "metadata": {},
     "output_type": "execute_result"
    }
   ],
   "source": [
    "### read csv line by line\n",
    "with open('edgelist_v5.csv') as f:\n",
    "    g = nx.DiGraph()\n",
    "    #cut off before 2020\n",
    "    for row in csv.DictReader(f):\n",
    "        if row ['datetime'][:4] < '2020':\n",
    "            continue\n",
    "        if row['source'] == row['target']:\n",
    "            continue\n",
    "        g.add_node(row['source'], channel_category='basis' in row['source'])\n",
    "        g.add_node(row['target'], channel_category='basis' in row['target'])\n",
    "        if g.has_edge(row['source'], row['target']):\n",
    "            g[row['source']][row['target']]['weight'] += 1\n",
    "        else:\n",
    "            g.add_edge(row['source'], row['target'], weight=1)\n",
    "remove_leaves(g) # function that searches node degree = 1 and drops it \n",
    "#remove_nodes(g, lambda n, a: ('channel_category' in a)) # this to drop node if not in a; but it made graph unreadable\n",
    "g.order(), g.size()"
   ]
  },
  {
   "cell_type": "code",
   "execution_count": 4,
   "id": "2c5f9b2b-46b4-4c70-9c0e-11f17c33bbdb",
   "metadata": {},
   "outputs": [
    {
     "data": {
      "text/plain": [
       "<Axes: ylabel='Frequency'>"
      ]
     },
     "execution_count": 4,
     "metadata": {},
     "output_type": "execute_result"
    },
    {
     "data": {
      "image/png": "[encoded data removed]",
      "text/plain": [
       "<Figure size 640x480 with 1 Axes>"
      ]
     },
     "metadata": {},
     "output_type": "display_data"
    }
   ],
   "source": [
    "graph_to_edges_dataframe(g).weight.plot.hist()"
   ]
  },
  {
   "cell_type": "code",
   "execution_count": 5,
   "id": "ab9bcf49-9bcb-46f9-94d3-2f52c874b7a6",
   "metadata": {},
   "outputs": [
    {
     "data": {
      "text/plain": [
       "('unzensiertv2', 'unzensiert_infoseite', {'weight': 26021})"
      ]
     },
     "execution_count": 5,
     "metadata": {},
     "output_type": "execute_result"
    }
   ],
   "source": [
    "max(g.edges.data(), key=lambda t: t[2]['weight'])"
   ]
  },
  {
   "cell_type": "code",
   "execution_count": 6,
   "id": "45ef4c9d-65e4-4337-82e7-ec89daf5bd69",
   "metadata": {},
   "outputs": [
    {
     "data": {
      "text/plain": [
       "[(('unzensiertv2', 'unzensiert_infoseite'), 26021),\n",
       " (('druschbafm_en', 'druschbafm'), 23677),\n",
       " (('bundeswehr_de', 'bundeswehrinfo'), 18214),\n",
       " (('corona_reset', 'medienzensur'), 15221),\n",
       " (('druschbafm', 'druschbafm_bulgaria'), 15204),\n",
       " (('kurze_vids', 'kurze_vids_kalender'), 7262),\n",
       " (('junges_blut', 'conspiracyfactsdeutsch'), 5060),\n",
       " (('druschbafm', 'druschbafm_en'), 3696),\n",
       " (('stinksack', 'surensohn'), 3161),\n",
       " (('freienordrheinwestfalenoffiziell', 'freienordrheinwestfalen'), 2781)]"
      ]
     },
     "execution_count": 6,
     "metadata": {},
     "output_type": "execute_result"
    }
   ],
   "source": [
    "from collections import Counter\n",
    "weights = Counter()\n",
    "for source, target, weight in g.edges.data('weight'):\n",
    "    weights[(source, target)] += weight\n",
    "\n",
    "weights.most_common(10)"
   ]
  },
  {
   "cell_type": "markdown",
   "id": "d9551bb2-f325-41e3-a3de-11b07e37c2d4",
   "metadata": {},
   "source": [
    "perhaps merge nodes based on string, but not \"basis\"?"
   ]
  },
  {
   "cell_type": "code",
   "execution_count": 7,
   "id": "20ebb75a-fff2-4972-8fe7-03a504806c51",
   "metadata": {},
   "outputs": [],
   "source": [
    "#for single graph\n",
    "#Sigma(g, node_size=g.degree, node_color=lambda n: random() > 0.5)"
   ]
  },
  {
   "cell_type": "code",
   "execution_count": 8,
   "id": "9d506ab0-8d50-40df-ab58-8e4d7dba26d5",
   "metadata": {},
   "outputs": [
    {
     "data": {
      "application/vnd.jupyter.widget-view+json": {
       "model_id": "43a071e1602c44cf9defc43605cafabc",
       "version_major": 2,
       "version_minor": 0
      },
      "text/plain": [
       "VBox(children=(HBox(children=(Sigma(nx.DiGraph with 4,886 nodes and 38,498 edges), Sigma(nx.DiGraph with 4,886…"
      ]
     },
     "metadata": {},
     "output_type": "display_data"
    }
   ],
   "source": [
    "SigmaGrid(g, node_size=g.in_degree, node_zindex='channel_category', views=[\n",
    " {\"node_metrics\": ['louvain'], 'node_color': 'louvain'}, \n",
    " {  'node_color': 'channel_category', \n",
    "      'node_color_palette': {True: \"red\", False: \"lightblue\"}\n",
    "    }\n",
    "])"
   ]
  },
  {
   "cell_type": "markdown",
   "id": "545f7b1b-abdd-4d26-b95a-069e44440a3a",
   "metadata": {},
   "source": [
    "check out ipysigma on git medialab/ipysigma\n",
    "\n",
    "**METRICS**\n",
    "use in-degree (n edges)\n",
    "weighted (sum of all weights edges)\n",
    "degree centrality (normalised version of degree) -> relative importance of node for network\n",
    "page rank (better than betweenness), recursive importance -> node important if important nodes sent links to it"
   ]
  },
  {
   "cell_type": "code",
   "execution_count": null,
   "id": "9ca5ebee-09d0-49b4-bf21-2816c4acbd9f",
   "metadata": {},
   "outputs": [],
   "source": []
  },
  {
   "cell_type": "code",
   "execution_count": 9,
   "id": "d4fbd15b-27b8-45e0-8632-b197a146667e",
   "metadata": {},
   "outputs": [],
   "source": [
    "import pandas as pd\n",
    "degree_dict = dict(g.degree())\n",
    "in_degree_dict = dict(g.in_degree())\n",
    "page_rank_dict = nx.pagerank(g)\n",
    "degree_centrality_dict = nx.degree_centrality(g)\n",
    "betweenness_centrality_dict = nx.betweenness_centrality(g)\n",
    "degree_df = pd.DataFrame(degree_dict.items(), columns=['Node', 'Degree']).sort_values(by='Degree', ascending=False)\n",
    "in_degree_df = pd.DataFrame(in_degree_dict.items(), columns=['Node', 'In-Degree']).sort_values(by='In-Degree', ascending=False)\n",
    "page_rank_df = pd.DataFrame(page_rank_dict.items(), columns=['Node', 'PageRank']).sort_values(by='PageRank', ascending=False)\n",
    "degree_centrality_df = pd.DataFrame(degree_centrality_dict.items(), columns=['Node', 'Degree Centrality']).sort_values(by='Degree Centrality', ascending=False)\n",
    "betweenness_centrality_df = pd.DataFrame(betweenness_centrality_dict.items(), columns=['Node', 'Betweenness Centrality']).sort_values(by='Betweenness Centrality', ascending=False)\n",
    "top_20_degree = degree_df.head(20)\n",
    "top_20_in_degree = in_degree_df.head(20)\n",
    "top_20_page_rank = page_rank_df.head(20)\n",
    "top_20_degree_centrality = degree_centrality_df.head(20)\n",
    "top_20_betweenness_centrality = betweenness_centrality_df.head(20)"
   ]
  },
  {
   "cell_type": "code",
   "execution_count": 10,
   "id": "90d5805e-2c8d-4bef-85b6-67aee8a464ed",
   "metadata": {
    "scrolled": true
   },
   "outputs": [
    {
     "name": "stdout",
     "output_type": "stream",
     "text": [
      "Top 20 Nodes by Degree:\n",
      "                          Node  Degree\n",
      "921              corona_reset    1535\n",
      "50          prozessbeobachter     796\n",
      "947                 aufdecker     791\n",
      "315                 ra_ludwig     577\n",
      "259         brandenburgtvinfo     529\n",
      "260                freielinke     527\n",
      "1230         efauf_newsletter     476\n",
      "162         davidclaudiosiber     473\n",
      "170      weiterdenken_marburg     472\n",
      "127                    haintz     457\n",
      "151            infodefgermany     453\n",
      "105            apoduesseldorf     452\n",
      "2000        sabrinakollmorgen     450\n",
      "915              medienzensur     448\n",
      "408         freepeoplegermany     427\n",
      "924          geradeaus_denken     424\n",
      "110   ubersicht_ukraine_kanal     415\n",
      "1444                 freiesth     414\n",
      "331            coronasolution     412\n",
      "989               junges_blut     409 \n",
      "\n",
      "Top 20 Nodes by In-Degree:\n",
      "                       Node  In-Degree\n",
      "127                 haintz        156\n",
      "113              kenjebsen        149\n",
      "13                joinchat        148\n",
      "315              ra_ludwig        140\n",
      "467  faktenfriedenfreiheit        138\n",
      "79                bitteltv        136\n",
      "145         rabbitresearch        135\n",
      "496          freiemedientv        132\n",
      "90              rosenbusch        129\n",
      "383            demotermine        128\n",
      "11           rasattelmaier        125\n",
      "200                      s        124\n",
      "134        wirsindvielmehr        124\n",
      "363         querdenken_711        120\n",
      "294                 auf1tv        118\n",
      "473           freiesachsen        117\n",
      "63                       c        116\n",
      "488  allesaussermainstream        111\n",
      "519         expresszeitung        107\n",
      "191          checkmatenews        107 \n",
      "\n",
      "Top 20 Nodes by PageRank:\n",
      "                       Node  PageRank\n",
      "113              kenjebsen  0.002649\n",
      "249      nachrichtenportal  0.001925\n",
      "696             kurze_vids  0.001593\n",
      "480             unzensiert  0.001279\n",
      "11           rasattelmaier  0.001265\n",
      "90              rosenbusch  0.001241\n",
      "488  allesaussermainstream  0.001241\n",
      "315              ra_ludwig  0.001237\n",
      "751    kurze_vids_kalender  0.001170\n",
      "13                joinchat  0.001166\n",
      "127                 haintz  0.001157\n",
      "294                 auf1tv  0.001132\n",
      "383            demotermine  0.001129\n",
      "467  faktenfriedenfreiheit  0.001119\n",
      "43                  apolut  0.001107\n",
      "0          die_basis_funkt  0.001103\n",
      "200                      s  0.001073\n",
      "84            videos_kenfm  0.001070\n",
      "79                bitteltv  0.001032\n",
      "24         reinerfuellmich  0.001030 \n",
      "\n",
      "Top 20 Nodes by Degree Centrality:\n",
      "                          Node  Degree Centrality\n",
      "921              corona_reset           0.314227\n",
      "50          prozessbeobachter           0.162948\n",
      "947                 aufdecker           0.161924\n",
      "315                 ra_ludwig           0.118117\n",
      "259         brandenburgtvinfo           0.108291\n",
      "260                freielinke           0.107881\n",
      "1230         efauf_newsletter           0.097441\n",
      "162         davidclaudiosiber           0.096827\n",
      "170      weiterdenken_marburg           0.096622\n",
      "127                    haintz           0.093552\n",
      "151            infodefgermany           0.092733\n",
      "105            apoduesseldorf           0.092528\n",
      "2000        sabrinakollmorgen           0.092119\n",
      "915              medienzensur           0.091709\n",
      "408         freepeoplegermany           0.087410\n",
      "924          geradeaus_denken           0.086796\n",
      "110   ubersicht_ukraine_kanal           0.084954\n",
      "1444                 freiesth           0.084749\n",
      "331            coronasolution           0.084340\n",
      "989               junges_blut           0.083726 \n",
      "\n",
      "Top 20 Nodes by Betweenness Centrality:\n",
      "                          Node  Betweenness Centrality\n",
      "921              corona_reset                0.008928\n",
      "127                    haintz                0.006507\n",
      "315                 ra_ludwig                0.006361\n",
      "50          prozessbeobachter                0.005491\n",
      "24            reinerfuellmich                0.003464\n",
      "105            apoduesseldorf                0.003026\n",
      "90                 rosenbusch                0.002750\n",
      "79                   bitteltv                0.002683\n",
      "110   ubersicht_ukraine_kanal                0.002632\n",
      "260                freielinke                0.002487\n",
      "182          sandragabriel269                0.002446\n",
      "496             freiemedientv                0.002435\n",
      "947                 aufdecker                0.002400\n",
      "467     faktenfriedenfreiheit                0.002153\n",
      "162         davidclaudiosiber                0.002144\n",
      "151            infodefgermany                0.002022\n",
      "1230         efauf_newsletter                0.001972\n",
      "915              medienzensur                0.001857\n",
      "989               junges_blut                0.001845\n",
      "175      songuelschluerscheid                0.001844 \n",
      "\n"
     ]
    }
   ],
   "source": [
    "print(\"Top 20 Nodes by Degree:\\n\", top_20_degree, \"\\n\")\n",
    "print(\"Top 20 Nodes by In-Degree:\\n\", top_20_in_degree, \"\\n\")\n",
    "print(\"Top 20 Nodes by PageRank:\\n\", top_20_page_rank, \"\\n\")\n",
    "print(\"Top 20 Nodes by Degree Centrality:\\n\", top_20_degree_centrality, \"\\n\")\n",
    "print(\"Top 20 Nodes by Betweenness Centrality:\\n\", top_20_betweenness_centrality, \"\\n\")"
   ]
  },
  {
   "cell_type": "code",
   "execution_count": 11,
   "id": "004fb997-a394-42ae-9991-7b26d7e62e3a",
   "metadata": {
    "scrolled": true
   },
   "outputs": [
    {
     "name": "stdout",
     "output_type": "stream",
     "text": [
      "\\begin{tabular}{lr}\n",
      "\\toprule\n",
      "Node & Degree \\\\\n",
      "\\midrule\n",
      "corona_reset & 1535 \\\\\n",
      "prozessbeobachter & 796 \\\\\n",
      "aufdecker & 791 \\\\\n",
      "ra_ludwig & 577 \\\\\n",
      "brandenburgtvinfo & 529 \\\\\n",
      "freielinke & 527 \\\\\n",
      "efauf_newsletter & 476 \\\\\n",
      "davidclaudiosiber & 473 \\\\\n",
      "weiterdenken_marburg & 472 \\\\\n",
      "haintz & 457 \\\\\n",
      "infodefgermany & 453 \\\\\n",
      "apoduesseldorf & 452 \\\\\n",
      "sabrinakollmorgen & 450 \\\\\n",
      "medienzensur & 448 \\\\\n",
      "freepeoplegermany & 427 \\\\\n",
      "geradeaus_denken & 424 \\\\\n",
      "ubersicht_ukraine_kanal & 415 \\\\\n",
      "freiesth & 414 \\\\\n",
      "coronasolution & 412 \\\\\n",
      "junges_blut & 409 \\\\\n",
      "\\bottomrule\n",
      "\\end{tabular}\n",
      "\n",
      "\\begin{tabular}{lr}\n",
      "\\toprule\n",
      "Node & In-Degree \\\\\n",
      "\\midrule\n",
      "haintz & 156 \\\\\n",
      "kenjebsen & 149 \\\\\n",
      "joinchat & 148 \\\\\n",
      "ra_ludwig & 140 \\\\\n",
      "faktenfriedenfreiheit & 138 \\\\\n",
      "bitteltv & 136 \\\\\n",
      "rabbitresearch & 135 \\\\\n",
      "freiemedientv & 132 \\\\\n",
      "rosenbusch & 129 \\\\\n",
      "demotermine & 128 \\\\\n",
      "rasattelmaier & 125 \\\\\n",
      "s & 124 \\\\\n",
      "wirsindvielmehr & 124 \\\\\n",
      "querdenken_711 & 120 \\\\\n",
      "auf1tv & 118 \\\\\n",
      "freiesachsen & 117 \\\\\n",
      "c & 116 \\\\\n",
      "allesaussermainstream & 111 \\\\\n",
      "expresszeitung & 107 \\\\\n",
      "checkmatenews & 107 \\\\\n",
      "\\bottomrule\n",
      "\\end{tabular}\n",
      "\n",
      "\\begin{tabular}{lr}\n",
      "\\toprule\n",
      "Node & PageRank \\\\\n",
      "\\midrule\n",
      "kenjebsen & 0.002649 \\\\\n",
      "nachrichtenportal & 0.001925 \\\\\n",
      "kurze_vids & 0.001593 \\\\\n",
      "unzensiert & 0.001279 \\\\\n",
      "rasattelmaier & 0.001265 \\\\\n",
      "rosenbusch & 0.001241 \\\\\n",
      "allesaussermainstream & 0.001241 \\\\\n",
      "ra_ludwig & 0.001237 \\\\\n",
      "kurze_vids_kalender & 0.001170 \\\\\n",
      "joinchat & 0.001166 \\\\\n",
      "haintz & 0.001157 \\\\\n",
      "auf1tv & 0.001132 \\\\\n",
      "demotermine & 0.001129 \\\\\n",
      "faktenfriedenfreiheit & 0.001119 \\\\\n",
      "apolut & 0.001107 \\\\\n",
      "die_basis_funkt & 0.001103 \\\\\n",
      "s & 0.001073 \\\\\n",
      "videos_kenfm & 0.001070 \\\\\n",
      "bitteltv & 0.001032 \\\\\n",
      "reinerfuellmich & 0.001030 \\\\\n",
      "\\bottomrule\n",
      "\\end{tabular}\n",
      "\n",
      "\\begin{tabular}{lr}\n",
      "\\toprule\n",
      "Node & Degree Centrality \\\\\n",
      "\\midrule\n",
      "corona_reset & 0.314227 \\\\\n",
      "prozessbeobachter & 0.162948 \\\\\n",
      "aufdecker & 0.161924 \\\\\n",
      "ra_ludwig & 0.118117 \\\\\n",
      "brandenburgtvinfo & 0.108291 \\\\\n",
      "freielinke & 0.107881 \\\\\n",
      "efauf_newsletter & 0.097441 \\\\\n",
      "davidclaudiosiber & 0.096827 \\\\\n",
      "weiterdenken_marburg & 0.096622 \\\\\n",
      "haintz & 0.093552 \\\\\n",
      "infodefgermany & 0.092733 \\\\\n",
      "apoduesseldorf & 0.092528 \\\\\n",
      "sabrinakollmorgen & 0.092119 \\\\\n",
      "medienzensur & 0.091709 \\\\\n",
      "freepeoplegermany & 0.087410 \\\\\n",
      "geradeaus_denken & 0.086796 \\\\\n",
      "ubersicht_ukraine_kanal & 0.084954 \\\\\n",
      "freiesth & 0.084749 \\\\\n",
      "coronasolution & 0.084340 \\\\\n",
      "junges_blut & 0.083726 \\\\\n",
      "\\bottomrule\n",
      "\\end{tabular}\n",
      "\n",
      "\\begin{tabular}{lr}\n",
      "\\toprule\n",
      "Node & Betweenness Centrality \\\\\n",
      "\\midrule\n",
      "corona_reset & 0.008928 \\\\\n",
      "haintz & 0.006507 \\\\\n",
      "ra_ludwig & 0.006361 \\\\\n",
      "prozessbeobachter & 0.005491 \\\\\n",
      "reinerfuellmich & 0.003464 \\\\\n",
      "apoduesseldorf & 0.003026 \\\\\n",
      "rosenbusch & 0.002750 \\\\\n",
      "bitteltv & 0.002683 \\\\\n",
      "ubersicht_ukraine_kanal & 0.002632 \\\\\n",
      "freielinke & 0.002487 \\\\\n",
      "sandragabriel269 & 0.002446 \\\\\n",
      "freiemedientv & 0.002435 \\\\\n",
      "aufdecker & 0.002400 \\\\\n",
      "faktenfriedenfreiheit & 0.002153 \\\\\n",
      "davidclaudiosiber & 0.002144 \\\\\n",
      "infodefgermany & 0.002022 \\\\\n",
      "efauf_newsletter & 0.001972 \\\\\n",
      "medienzensur & 0.001857 \\\\\n",
      "junges_blut & 0.001845 \\\\\n",
      "songuelschluerscheid & 0.001844 \\\\\n",
      "\\bottomrule\n",
      "\\end{tabular}\n",
      "\n"
     ]
    }
   ],
   "source": [
    "# Convert to LaTeX\n",
    "print(top_20_degree.to_latex(index=False))\n",
    "print(top_20_in_degree.to_latex(index=False))\n",
    "print(top_20_page_rank.to_latex(index=False))\n",
    "print(top_20_degree_centrality.to_latex(index=False))\n",
    "print(top_20_betweenness_centrality.to_latex(index=False))"
   ]
  },
  {
   "cell_type": "code",
   "execution_count": 13,
   "id": "21845d94-9931-410b-b9ac-11aae596e716",
   "metadata": {},
   "outputs": [],
   "source": [
    "import networkx as nx\n",
    "\n",
    "# Assuming 'g' is your directed graph and communities are stored in node attribute 'louvain'\n",
    "def count_community_sizes(graph):\n",
    "    # Initialize a dictionary to count the nodes in each community\n",
    "    community_sizes = {}\n",
    "    \n",
    "    # Iterate over all nodes and their attributes\n",
    "    for node, data in graph.nodes(data=True):\n",
    "        # Get the community id from the node attributes\n",
    "        community_id = data.get('louvain')\n",
    "        if community_id in community_sizes:\n",
    "            community_sizes[community_id] += 1\n",
    "        else:\n",
    "            community_sizes[community_id] = 1\n",
    "\n",
    "    return community_sizes\n"
   ]
  },
  {
   "cell_type": "code",
   "execution_count": 14,
   "id": "ae032b0c-3599-4419-907c-63017321ef2d",
   "metadata": {},
   "outputs": [
    {
     "name": "stdout",
     "output_type": "stream",
     "text": [
      "Community None: 4886 nodes\n"
     ]
    }
   ],
   "source": [
    "# Call the function and print the community sizes\n",
    "community_sizes = count_community_sizes(g)\n",
    "for community, size in community_sizes.items():\n",
    "    print(f\"Community {community}: {size} nodes\")"
   ]
  }
 ],
 "metadata": {
  "kernelspec": {
   "display_name": "Python 3 (ipykernel)",
   "language": "python",
   "name": "python3"
  },
  "language_info": {
   "codemirror_mode": {
    "name": "ipython",
    "version": 3
   },
   "file_extension": ".py",
   "mimetype": "text/x-python",
   "name": "python",
   "nbconvert_exporter": "python",
   "pygments_lexer": "ipython3",
   "version": "3.12.2"
  }
 },
 "nbformat": 4,
 "nbformat_minor": 5
}
