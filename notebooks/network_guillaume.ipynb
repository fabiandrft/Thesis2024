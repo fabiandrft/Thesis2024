{
 "cells": [
  {
   "cell_type": "code",
   "execution_count": null,
   "id": "ae860c62-ed77-49c3-bfa8-8e8097878738",
   "metadata": {
    "scrolled": true
   },
   "outputs": [],
   "source": [
    "!pip install pelote\n",
    "!pip install ipysigma"
   ]
  },
  {
   "cell_type": "code",
   "execution_count": null,
   "id": "a6d91216-bb38-406b-abe4-39f502de1017",
   "metadata": {},
   "outputs": [],
   "source": [
    "import networkx as nx\n",
    "from ipysigma import Sigma, SigmaGrid\n",
    "from pelote import remove_leaves, graph_to_edges_dataframe, remove_nodes\n",
    "from random import random\n",
    "import csv"
   ]
  },
  {
   "cell_type": "code",
   "execution_count": null,
   "id": "10a46264-bc67-409b-b865-9d93050aae01",
   "metadata": {},
   "outputs": [],
   "source": [
    "### read csv line by line\n",
    "with open('edgelist_v5.csv') as f:\n",
    "    g = nx.DiGraph()\n",
    "    #cut off before 2020\n",
    "    for row in csv.DictReader(f):\n",
    "        if row ['datetime'][:4] < '2020':\n",
    "            continue\n",
    "        if row['source'] == row['target']:\n",
    "            continue\n",
    "        g.add_node(row['source'], channel_category='basis' in row['source'])\n",
    "        g.add_node(row['target'], channel_category='basis' in row['target'])\n",
    "        if g.has_edge(row['source'], row['target']):\n",
    "            g[row['source']][row['target']]['weight'] += 1\n",
    "        else:\n",
    "            g.add_edge(row['source'], row['target'], weight=1)\n",
    "remove_leaves(g) # function that searches node degree = 1 and drops it \n",
    "#remove_nodes(g, lambda n, a: ('channel_category' in a)) # this to drop node if not in a; but it made graph unreadable\n",
    "g.order(), g.size()"
   ]
  },
  {
   "cell_type": "code",
   "execution_count": null,
   "id": "2c5f9b2b-46b4-4c70-9c0e-11f17c33bbdb",
   "metadata": {},
   "outputs": [],
   "source": [
    "graph_to_edges_dataframe(g).weight.plot.hist()"
   ]
  },
  {
   "cell_type": "code",
   "execution_count": null,
   "id": "ab9bcf49-9bcb-46f9-94d3-2f52c874b7a6",
   "metadata": {},
   "outputs": [],
   "source": [
    "max(g.edges.data(), key=lambda t: t[2]['weight'])"
   ]
  },
  {
   "cell_type": "code",
   "execution_count": null,
   "id": "45ef4c9d-65e4-4337-82e7-ec89daf5bd69",
   "metadata": {},
   "outputs": [],
   "source": [
    "from collections import Counter\n",
    "weights = Counter()\n",
    "for source, target, weight in g.edges.data('weight'):\n",
    "    weights[(source, target)] += weight\n",
    "\n",
    "weights.most_common(10)"
   ]
  },
  {
   "cell_type": "markdown",
   "id": "d9551bb2-f325-41e3-a3de-11b07e37c2d4",
   "metadata": {},
   "source": [
    "perhaps merge nodes based on string, but not \"basis\"?"
   ]
  },
  {
   "cell_type": "code",
   "execution_count": null,
   "id": "20ebb75a-fff2-4972-8fe7-03a504806c51",
   "metadata": {},
   "outputs": [],
   "source": [
    "#for single graph\n",
    "#Sigma(g, node_size=g.degree, node_color=lambda n: random() > 0.5)"
   ]
  },
  {
   "cell_type": "code",
   "execution_count": null,
   "id": "9d506ab0-8d50-40df-ab58-8e4d7dba26d5",
   "metadata": {},
   "outputs": [],
   "source": [
    "SigmaGrid(g, node_size=g.in_degree, node_zindex='channel_category', views=[\n",
    " {\"node_metrics\": ['louvain'], 'node_color': 'louvain'}, \n",
    " {  'node_color': 'channel_category', \n",
    "      'node_color_palette': {True: \"red\", False: \"lightblue\"}\n",
    "    }\n",
    "])"
   ]
  },
  {
   "cell_type": "markdown",
   "id": "545f7b1b-abdd-4d26-b95a-069e44440a3a",
   "metadata": {},
   "source": [
    "check out ipysigma on git medialab/ipysigma\n",
    "\n",
    "**METRICS**\n",
    "use in-degree (n edges)\n",
    "weighted (sum of all weights edges)\n",
    "degree centrality (normalised version of degree) -> relative importance of node for network\n",
    "page rank (better than betweenness), recursive importance -> node important if important nodes sent links to it"
   ]
  },
  {
   "cell_type": "code",
   "execution_count": null,
   "id": "9ca5ebee-09d0-49b4-bf21-2816c4acbd9f",
   "metadata": {},
   "outputs": [],
   "source": []
  },
  {
   "cell_type": "code",
   "execution_count": null,
   "id": "d4fbd15b-27b8-45e0-8632-b197a146667e",
   "metadata": {},
   "outputs": [],
   "source": [
    "import pandas as pd\n",
    "degree_dict = dict(g.degree())\n",
    "in_degree_dict = dict(g.in_degree())\n",
    "page_rank_dict = nx.pagerank(g)\n",
    "degree_centrality_dict = nx.degree_centrality(g)\n",
    "betweenness_centrality_dict = nx.betweenness_centrality(g)\n",
    "degree_df = pd.DataFrame(degree_dict.items(), columns=['Node', 'Degree']).sort_values(by='Degree', ascending=False)\n",
    "in_degree_df = pd.DataFrame(in_degree_dict.items(), columns=['Node', 'In-Degree']).sort_values(by='In-Degree', ascending=False)\n",
    "page_rank_df = pd.DataFrame(page_rank_dict.items(), columns=['Node', 'PageRank']).sort_values(by='PageRank', ascending=False)\n",
    "degree_centrality_df = pd.DataFrame(degree_centrality_dict.items(), columns=['Node', 'Degree Centrality']).sort_values(by='Degree Centrality', ascending=False)\n",
    "betweenness_centrality_df = pd.DataFrame(betweenness_centrality_dict.items(), columns=['Node', 'Betweenness Centrality']).sort_values(by='Betweenness Centrality', ascending=False)\n",
    "top_20_degree = degree_df.head(20)\n",
    "top_20_in_degree = in_degree_df.head(20)\n",
    "top_20_page_rank = page_rank_df.head(20)\n",
    "top_20_degree_centrality = degree_centrality_df.head(20)\n",
    "top_20_betweenness_centrality = betweenness_centrality_df.head(20)"
   ]
  },
  {
   "cell_type": "code",
   "execution_count": null,
   "id": "90d5805e-2c8d-4bef-85b6-67aee8a464ed",
   "metadata": {
    "scrolled": true
   },
   "outputs": [],
   "source": [
    "print(\"Top 20 Nodes by Degree:\\n\", top_20_degree, \"\\n\")\n",
    "print(\"Top 20 Nodes by In-Degree:\\n\", top_20_in_degree, \"\\n\")\n",
    "print(\"Top 20 Nodes by PageRank:\\n\", top_20_page_rank, \"\\n\")\n",
    "print(\"Top 20 Nodes by Degree Centrality:\\n\", top_20_degree_centrality, \"\\n\")\n",
    "print(\"Top 20 Nodes by Betweenness Centrality:\\n\", top_20_betweenness_centrality, \"\\n\")"
   ]
  },
  {
   "cell_type": "code",
   "execution_count": null,
   "id": "004fb997-a394-42ae-9991-7b26d7e62e3a",
   "metadata": {
    "scrolled": true
   },
   "outputs": [],
   "source": [
    "# Convert to LaTeX\n",
    "print(top_20_degree.to_latex(index=False))\n",
    "print(top_20_in_degree.to_latex(index=False))\n",
    "print(top_20_page_rank.to_latex(index=False))\n",
    "print(top_20_degree_centrality.to_latex(index=False))\n",
    "print(top_20_betweenness_centrality.to_latex(index=False))"
   ]
  },
  {
   "cell_type": "code",
   "execution_count": null,
   "id": "21845d94-9931-410b-b9ac-11aae596e716",
   "metadata": {},
   "outputs": [],
   "source": [
    "import networkx as nx\n",
    "\n",
    "# Assuming 'g' is your directed graph and communities are stored in node attribute 'louvain'\n",
    "def count_community_sizes(graph):\n",
    "    # Initialize a dictionary to count the nodes in each community\n",
    "    community_sizes = {}\n",
    "    \n",
    "    # Iterate over all nodes and their attributes\n",
    "    for node, data in graph.nodes(data=True):\n",
    "        # Get the community id from the node attributes\n",
    "        community_id = data.get('louvain')\n",
    "        if community_id in community_sizes:\n",
    "            community_sizes[community_id] += 1\n",
    "        else:\n",
    "            community_sizes[community_id] = 1\n",
    "\n",
    "    return community_sizes\n"
   ]
  },
  {
   "cell_type": "code",
   "execution_count": null,
   "id": "ae032b0c-3599-4419-907c-63017321ef2d",
   "metadata": {},
   "outputs": [],
   "source": [
    "# Call the function and print the community sizes\n",
    "community_sizes = count_community_sizes(g)\n",
    "for community, size in community_sizes.items():\n",
    "    print(f\"Community {community}: {size} nodes\")"
   ]
  }
 ],
 "metadata": {
  "kernelspec": {
   "display_name": "Python 3 (ipykernel)",
   "language": "python",
   "name": "python3"
  },
  "language_info": {
   "codemirror_mode": {
    "name": "ipython",
    "version": 3
   },
   "file_extension": ".py",
   "mimetype": "text/x-python",
   "name": "python",
   "nbconvert_exporter": "python",
   "pygments_lexer": "ipython3",
   "version": "3.12.2"
  }
 },
 "nbformat": 4,
 "nbformat_minor": 5
}
