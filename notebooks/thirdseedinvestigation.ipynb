{
 "cells": [
  {
   "cell_type": "code",
   "execution_count": null,
   "id": "c5a99b16-cea8-4fa7-b846-5cbb2931dbc6",
   "metadata": {},
   "outputs": [],
   "source": [
    "import pandas as pd\n",
    "df_s1 = pd.read_csv('output_s1.csv')\n",
    "df_s1.rename(columns={'Chat': 'channel_name'}, inplace=True)\n",
    "df_s2 = pd.read_csv('output_s2.csv')\n",
    "columns_identical = df_s1.columns.equals(df_s2.columns)\n",
    "print(f\"are columns in output_s1 und output_s2 identical? {columns_identical}\")\n",
    "df_s1.to_csv('output_s1.csv', index=False)\n"
   ]
  },
  {
   "cell_type": "code",
   "execution_count": null,
   "id": "6d72bf5f-1e0b-4c20-8144-309e4a520964",
   "metadata": {},
   "outputs": [],
   "source": [
    "import pandas as pd\n",
    "df = pd.read_csv(\"output_s1.csv\")\n",
    "df_s1 = df_s1[df_s1['channel_name'] == 'die_basis_funkt']\n",
    "print(df_s1.columns.tolist())\n",
    "print(\"Number of rows in df_s1:\", len(df_s1))"
   ]
  },
  {
   "cell_type": "markdown",
   "id": "4727e664-f63a-4c74-acd5-4b16738ab4df",
   "metadata": {},
   "source": [
    "so this is key here below, this is the list of linked chats without threshold in chat dieBasis"
   ]
  },
  {
   "cell_type": "code",
   "execution_count": null,
   "id": "4b91c6ee-15eb-489e-bd57-050a4ae9d802",
   "metadata": {},
   "outputs": [],
   "source": [
    "print(df_s1.columns.tolist())\n",
    "#to check if df_s1 only has the correct channel data\n",
    "unique_values = df_s1['channel_name'].unique()\n",
    "for value in unique_values:\n",
    "    print(value)"
   ]
  },
  {
   "cell_type": "code",
   "execution_count": null,
   "id": "666f7b10-e654-4f61-8450-cfb7795f88c5",
   "metadata": {},
   "outputs": [],
   "source": [
    "import re\n",
    "telegram_chat_pattern = r't\\.me\\/([\\w-]+)'\n",
    "\n",
    "telegram_chat_links = df_s1[df_s1['links'].str.contains(telegram_chat_pattern, na=False)]['links']\n",
    "telegram_chat_links = telegram_chat_links.str.extractall(telegram_chat_pattern).reset_index(drop=True)[0].unique()\n",
    "output_file = 'seed2.txt'\n",
    "with open(output_file, 'w') as file:\n",
    "    for link in telegram_chat_links:\n",
    "        file.write(link + '\\n')\n",
    "    "
   ]
  },
  {
   "cell_type": "code",
   "execution_count": null,
   "id": "3627d728-ce72-4a82-a393-fac10f41a116",
   "metadata": {},
   "outputs": [],
   "source": [
    "# lets now only include in output from second seed 'seed2.txt' those chats that were from die_basis_funkt\n",
    "# no threshold, one single mention is enough\n",
    "import pandas as pd\n",
    "\n",
    "# Step 1: Read the list of channels from seed2.txt\n",
    "with open(\"seed2.txt\", \"r\") as file:\n",
    "    channels_list = file.read().splitlines()\n",
    "\n",
    "# Step 2: Filter df_s2 to include only the rows where 'channel_name' matches the list\n",
    "df_s2_v2 = df_s2[df_s2['channel_name'].isin(channels_list)]\n",
    "\n",
    "# Optional: Verify the filtering by checking if all 'channel_name' in df_s2_v2 are in the channels_list\n",
    "# This should return True if the filtering is correct\n",
    "verification_result = df_s2_v2['channel_name'].isin(channels_list).all()\n",
    "\n",
    "print(f\"Verification that all channel names in df_s2_v2 are in the list: {verification_result}\")\n",
    "print(df_s2_v2.columns.tolist())\n",
    "print(\"Number of rows in df_s2_v2:\", len(df_s2_v2))\n",
    "print(\"Number of rows in df_s2:\", len(df_s2))\n",
    "\n"
   ]
  },
  {
   "cell_type": "code",
   "execution_count": null,
   "id": "e1787d61-02c1-4129-8996-89b5d9f6c8c8",
   "metadata": {},
   "outputs": [],
   "source": [
    "df_s2_v2.to_csv(\"df_s2_v2.csv\", index=False)\n",
    "\n",
    "print(\"df_s2_v2.csv has been saved\")"
   ]
  },
  {
   "cell_type": "code",
   "execution_count": null,
   "id": "d0555da1-b4dc-496f-8b65-55e3d0354b07",
   "metadata": {},
   "outputs": [],
   "source": [
    "# now export the chat links from df_s2_v2 to seed3.txt; this needs to be rewritten to only include those mentioned more than once.\n",
    "import re\n",
    "telegram_chat_pattern = r't\\.me\\/([\\w-]+)'\n",
    "\n",
    "telegram_chat_links = df_s2_v2[df_s2_v2['links'].str.contains(telegram_chat_pattern, na=False)]['links']\n",
    "telegram_chat_links = telegram_chat_links.str.extractall(telegram_chat_pattern).reset_index(drop=True)[0].unique()\n",
    "output_file = 'seed3.txt'\n",
    "with open(output_file, 'w') as file:\n",
    "    for link in telegram_chat_links:\n",
    "        file.write(link + '\\n')"
   ]
  },
  {
   "cell_type": "code",
   "execution_count": null,
   "id": "05e21fec-dc19-4bd0-8616-9703939d5f57",
   "metadata": {},
   "outputs": [],
   "source": [
    "### inspect how many times links were forwarded\n",
    "telegram_chat_pattern = r't\\.me\\/([\\w-]+)'\n",
    "telegram_chat_links = df_s2_v2[df_s2_v2['links'].str.contains(telegram_chat_pattern, na=False)]['links']\n",
    "telegram_chat_links = telegram_chat_links.str.extractall(telegram_chat_pattern).reset_index(drop=True)[0]\n",
    "\n",
    "# Häufigkeit jedes Links zählen\n",
    "link_frequency = telegram_chat_links.value_counts()\n",
    "\n",
    "# Categorize each frequency into specified bins\n",
    "bins = [-1, 1, 5, 10, 20, float('inf')]  # Define bins edges\n",
    "labels = ['1', '2-5', '6-10', '11-20', '>20']  # Labels for the bins\n",
    "categorized = pd.cut(link_frequency, bins=bins, labels=labels)\n",
    "\n",
    "# Count occurrences in each bin for absolute numbers\n",
    "distribution_abs = categorized.value_counts().sort_index()\n",
    "\n",
    "# Calculate relative frequency (percentage) of each bin\n",
    "distribution_rel = (distribution_abs / distribution_abs.sum()) * 100\n",
    "\n",
    "# Create a DataFrame to neatly display both absolute and relative frequencies\n",
    "distribution_table = pd.DataFrame({'Absolute Frequency': distribution_abs, 'Relative Frequency (%)': distribution_rel})\n",
    "\n",
    "print(distribution_table)"
   ]
  },
  {
   "cell_type": "code",
   "execution_count": null,
   "id": "2112a103-7d17-404d-96da-cabced6d6b61",
   "metadata": {},
   "outputs": [],
   "source": [
    "### now actually create seed3.txt with threshold 2\n",
    "# Filter out links with frequency >= 2\n",
    "links_to_save = link_frequency[link_frequency >= 2].index\n",
    "\n",
    "# Convert the filtered links to a string with each link on a new line\n",
    "links_str = \"\\n\".join(links_to_save)\n",
    "\n",
    "# Write the filtered links to seed3.txt\n",
    "with open(\"seed3.txt\", \"w\") as file:\n",
    "    file.write(links_str)\n",
    "\n",
    "print(f\"Saved {len(links_to_save)} links to seed3.txt.\")"
   ]
  },
  {
   "cell_type": "markdown",
   "id": "b45182db-c73a-46ab-99de-38662bb247b8",
   "metadata": {},
   "source": [
    "here I calculate how big the threshold for n-links should be for each seed. I decide in teh end that it is n=0 for the second seed and n=2 for the third seed, I think."
   ]
  },
  {
   "cell_type": "code",
   "execution_count": null,
   "id": "23904397-db2c-4fc2-8c5f-02e606a2800b",
   "metadata": {},
   "outputs": [],
   "source": [
    "###wie hoch soll der threshold sein für n-links \n",
    "import pandas as pd\n",
    "import re\n",
    "\n",
    "# Dein vorhandener Code, um Telegram-Links zu extrahieren\n",
    "telegram_chat_pattern = r'(t\\.me\\/\\w+)'\n",
    "telegram_chat_links = df_s1[df_s1['links'].str.contains(telegram_chat_pattern, na=False)]['links']\n",
    "telegram_chat_links = telegram_chat_links.str.extractall(telegram_chat_pattern).reset_index(drop=True)[0]\n",
    "\n",
    "# Häufigkeit jedes Links zählen\n",
    "link_frequency = telegram_chat_links.value_counts()\n",
    "\n",
    "# Ergebnisse für verschiedene Thresholds speichern\n",
    "results = {}\n",
    "\n",
    "# Thresholds testen von 2 bis 10\n",
    "for threshold in range(2, 11):\n",
    "    # Anzahl der Chats, die den Threshold erfüllen\n",
    "    filtered_chats_count = link_frequency[link_frequency >= threshold].count()\n",
    "    results[threshold] = filtered_chats_count\n",
    "\n",
    "# Ergebnisse ausgeben\n",
    "print(\"Chats pro Threshold:\")\n",
    "for threshold, count in results.items():\n",
    "    print(f\"Threshold {threshold}: {count} Chats\")"
   ]
  },
  {
   "cell_type": "code",
   "execution_count": null,
   "id": "bde3cbf3-0965-46fb-b63e-041792845d13",
   "metadata": {},
   "outputs": [],
   "source": [
    "### berechnen wie viele Chats je nach threshold noch mit drinnen wären\n",
    "import pandas as pd\n",
    "import re\n",
    "\n",
    "# Annahme: df_s1 und df_s2 sind bereits geladen\n",
    "\n",
    "# Schritt 1: Anpassen der Extraktion von Telegram-Links aus df_s1\n",
    "telegram_chat_pattern = r't\\.me\\/([\\w-]+)'\n",
    "telegram_links_s1 = df_s1['links'].str.extractall(telegram_chat_pattern).reset_index(drop=True)[0]\n",
    "link_frequency_s1 = telegram_links_s1.value_counts()\n",
    "\n",
    "# Bereite die Ergebnisse für Seed2 basierend auf verschiedenen Thresholds vor\n",
    "s2_chats_per_threshold = {}\n",
    "thresholds = [0, 2, 4, 6, 8, 10, 12, 14, 16, 18, 20]\n",
    "for threshold in thresholds:\n",
    "    filtered_chats = link_frequency_s1[link_frequency_s1 >= threshold].index.tolist()\n",
    "    s2_chats_per_threshold[threshold] = filtered_chats\n",
    "\n",
    "# Schritt 3: Analysiere Seed3 basierend auf Seed2 für jeden Threshold\n",
    "results_s3 = {}\n",
    "df_s2 = pd.read_csv('output_s2.csv')  # Lade die Daten aus output_s2.csv\n",
    "\n",
    "for threshold_s2 in thresholds:\n",
    "    s2_chats = s2_chats_per_threshold[threshold_s2]\n",
    "    df_filtered = df_s2[df_s2['channel_name'].isin(s2_chats)]\n",
    "    if not df_filtered.empty:\n",
    "        telegram_links_s2 = df_filtered['links'].str.extractall(telegram_chat_pattern).reset_index(drop=True)[0]\n",
    "        link_frequency_s2 = telegram_links_s2.value_counts()\n",
    "\n",
    "        for threshold_s3 in thresholds:\n",
    "            filtered_chats_count = link_frequency_s2[link_frequency_s2 >= threshold_s3].count()\n",
    "            results_s3[(threshold_s2, threshold_s3)] = filtered_chats_count\n",
    "    else:\n",
    "        print(f\"Keine Ergebnisse für Threshold {threshold_s2}\")\n",
    "\n",
    "# Ergebnisse ausgeben\n",
    "print(\"Chats in S3 basierend auf Thresholds in S2:\")\n",
    "for (threshold_s2, threshold_s3), count in results_s3.items():\n",
    "    print(f\"Seed2 Threshold {threshold_s2}, Seed3 Threshold {threshold_s3}: {count} Chats\")\n"
   ]
  }
 ],
 "metadata": {
  "kernelspec": {
   "display_name": "Python 3 (ipykernel)",
   "language": "python",
   "name": "python3"
  },
  "language_info": {
   "codemirror_mode": {
    "name": "ipython",
    "version": 3
   },
   "file_extension": ".py",
   "mimetype": "text/x-python",
   "name": "python",
   "nbconvert_exporter": "python",
   "pygments_lexer": "ipython3",
   "version": "3.12.2"
  }
 },
 "nbformat": 4,
 "nbformat_minor": 5
}
